{
 "cells": [
  {
   "cell_type": "code",
   "execution_count": 4,
   "metadata": {},
   "outputs": [],
   "source": [
    "import pyfolio as pf\n",
    "import pandas as pd\n",
    "import datetime\n",
    "returns_df = pd.read_csv('bitcoin_strategy_returns.csv')\n",
    "positions = pd.read_csv('bitcoin_strategy_positions.csv')\n",
    "transactions = pd.read_csv('bitcoin_strategy_transactions.csv')\n",
    "returns_df['date2']= returns_df['date'].apply(lambda x: datetime.datetime.strptime(x, '%Y-%m-%d'))\n",
    "returns_df = returns_df.drop('date', axis = 1)\n",
    "returns_df = returns_df.rename(columns = {'date2': 'date'})\n",
    "returns_df = returns_df.set_index('date')\n",
    "returns = returns_df['returns']\n",
    "positions['date2']= positions['date'].apply(lambda x: datetime.datetime.strptime(x, '%Y-%m-%d'))\n",
    "positions = positions.drop('date', axis = 1)\n",
    "positions = positions.rename(columns = {'date2': 'date'})\n",
    "positions = positions.set_index('date')\n",
    "transactions['date2']= transactions['date'].apply(lambda x: datetime.datetime.strptime(x, '%Y-%m-%d'))\n",
    "transactions = transactions.drop('date', axis = 1)\n",
    "transactions = transactions.rename(columns = {'date2': 'date'})\n",
    "transactions = transactions.set_index('date')\n",
    "from empyrical import *\n",
    "max_dd = max_drawdown(returns)\n",
    "#oos_date = '2020-03-01'\n",
    "#pf.create_full_tear_sheet(returns,\n",
    "                        #   positions=positions,\n",
    "                        #   transactions=transactions,\n",
    "                        #   live_start_date=oos_date)\n"
   ]
  },
  {
   "cell_type": "code",
   "execution_count": 2,
   "metadata": {},
   "outputs": [],
   "source": [
    "max_dd = max_drawdown(returns)"
   ]
  },
  {
   "cell_type": "code",
   "execution_count": null,
   "metadata": {},
   "outputs": [],
   "source": []
  }
 ],
 "metadata": {
  "language_info": {
   "name": "python",
   "codemirror_mode": {
    "name": "ipython",
    "version": 3
   },
   "version": "3.7.1-final"
  },
  "orig_nbformat": 2,
  "file_extension": ".py",
  "mimetype": "text/x-python",
  "name": "python",
  "npconvert_exporter": "python",
  "pygments_lexer": "ipython3",
  "version": 3,
  "kernelspec": {
   "name": "python3",
   "display_name": "Python 3"
  }
 },
 "nbformat": 4,
 "nbformat_minor": 2
}