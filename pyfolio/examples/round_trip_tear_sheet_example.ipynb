{
 "cells": [
  {
   "cell_type": "markdown",
   "metadata": {},
   "source": [
    "# Round Trip Tear Sheet Example"
   ]
  },
  {
   "cell_type": "markdown",
   "metadata": {},
   "source": [
    "When evaluating the performance of an investing strategy, it is helpful to quantify the frequency, duration, and profitability of its independent bets, or \"round trip\" trades. A round trip trade is started when a new long or short position is opened and then later completely or partially closed out.\n",
    "\n",
    "The intent of the round trip tearsheet is to help differentiate strategies that profited off a few lucky trades from strategies that profited repeatedly from genuine alpha. Breaking down round trip profitability by traded name and sector can also help inform universe selection and identify exposure risks. For example, even if your equity curve looks robust, if only two securities in your universe of fifteen names contributed to overall profitability, you may have reason to question the logic of your strategy.\n",
    "\n",
    "To identify round trips, pyfolio reconstructs the complete portfolio based on the transactions that you pass in. When you make a trade, pyfolio checks if shares are already present in your portfolio purchased at a certain price. If there are, we compute the PnL, returns and duration of that round trip trade. In calculating round trips, pyfolio will also append position closing transactions at the last timestamp in the positions data. This closing transaction will cause the PnL from any open positions to realized as completed round trips."
   ]
  },
  {
   "cell_type": "code",
   "execution_count": 1,
   "metadata": {},
   "outputs": [
    {
     "name": "stderr",
     "output_type": "stream",
     "text": [
      "/opt/miniconda3/envs/analysis/lib/python3.11/site-packages/pyfolio/pos.py:26: UserWarning: Module \"zipline.assets\" not found; multipliers will not be applied to position notionals.\n",
      "  warnings.warn(\n"
     ]
    },
    {
     "name": "stdout",
     "output_type": "stream",
     "text": [
      "0.9.3+171.g03e0fbf\n"
     ]
    }
   ],
   "source": [
    "#import sys\n",
    "#sys.modules.pop('pyfolio', None)\n",
    "import pyfolio as pf\n",
    "print(pf.__version__)\n",
    "%matplotlib inline\n",
    "import gzip\n",
    "import os\n",
    "import pandas as pd\n",
    "\n",
    "# silence warnings\n",
    "import warnings\n",
    "warnings.filterwarnings('ignore')"
   ]
  },
  {
   "cell_type": "code",
   "execution_count": 2,
   "metadata": {},
   "outputs": [],
   "source": [
    "transactions = pd.read_csv(gzip.open('/Users/linda/myprojects/github/pyfolio/pyfolio/tests/test_data/test_txn.csv.gz'),#c:\\\\myprojects\\\\github\\\\pyfolio\\\\pyfolio\\\\tests\\\\test_data\\\\\n",
    "                    index_col=0, parse_dates=True)\n",
    "positions = pd.read_csv(gzip.open('/Users/linda/myprojects/github/pyfolio/pyfolio/tests/test_data/test_pos.csv.gz'),#\n",
    "                    index_col=0, parse_dates=True)\n",
    "returns = pd.read_csv(gzip.open('/Users/linda/myprojects/github/pyfolio/pyfolio/tests/test_data/test_returns.csv.gz'),\n",
    "                      index_col=0, parse_dates=True, header=None)[1]\n",
    "returns.columns = ['returns']\n",
    "returns = returns[returns.index >= positions.index[0]]\n",
    "#print('shape of returns: ', returns.shape)\n",
    "#print('shape of positions: ', positions.shape)\n",
    "#print('shape of transactions: ', transactions.shape)\n",
    "#print('returns: ', returns.head())\n",
    "#print('positions: ', positions.head())\n",
    "#print('transactions: ', transactions.head())\n",
    "#print('returns: ', returns.tail())\n",
    "#print('positions: ', positions.tail())\n",
    "#print('transactions: ', transactions.tail())"
   ]
  },
  {
   "cell_type": "code",
   "execution_count": 3,
   "metadata": {},
   "outputs": [],
   "source": [
    "# Optional: Sector mappings may be passed in as a dict or pd.Series. If a mapping is\n",
    "# provided, PnL from symbols with mappings will be summed to display profitability by sector.\n",
    "sect_map = {'COST': 'Consumer Goods', 'INTC':'Technology', 'CERN':'Healthcare', 'GPS':'Technology',\n",
    "            'MMM': 'Construction', 'DELL': 'Technology', 'AMD':'Technology'}"
   ]
  },
  {
   "cell_type": "markdown",
   "metadata": {},
   "source": [
    "The easiest way to run the analysis is to call `pyfolio.create_round_trip_tear_sheet()`. Passing in a sector map is optional. You can also pass `round_trips=True` to `pyfolio.create_full_tear_sheet()` to have this be created along all the other analyses."
   ]
  },
  {
   "cell_type": "code",
   "execution_count": 4,
   "metadata": {
    "scrolled": false
   },
   "outputs": [
    {
     "name": "stdout",
     "output_type": "stream",
     "text": [
      "stats_all:  ones          All trades\n",
      "总净利润        67003.937838\n",
      "总盈利        448674.416325\n",
      "总亏损       -381670.478487\n",
      "利润因子            1.175554\n",
      "所有交易平均净利润      11.514683\n",
      "stats_all:  ones    All trades\n",
      "总交易数   5819.000000\n",
      "盈利百分比     0.496133\n",
      "盈利交易数  2887.000000\n",
      "亏损交易数  2914.000000\n",
      "平局交易数    18.000000\n",
      "stats_all:  ones                    All trades\n",
      "平均持续时间  13 days 03:27:07.702354356\n",
      "中位数持续时间            8 days 00:00:00\n",
      "最长持续时间            84 days 00:00:00\n",
      "最短持续时间             1 days 00:00:00\n",
      "stats_all:  ones          All trades\n",
      "所有交易的平均收益   6.377642e-05\n",
      "盈利交易的平均收益   1.253380e-03\n",
      "亏损交易的平均收益  -1.114411e-03\n",
      "所有交易的中位数收益 -1.940080e-07\n",
      "盈利交易的中位数收益  1.910742e-04\n"
     ]
    },
    {
     "data": {
      "text/html": [
       "<table border=\"1\" class=\"dataframe\">\n",
       "  <thead>\n",
       "    <tr style=\"text-align: right;\">\n",
       "      <th>Summary stats</th>\n",
       "      <th>All trades</th>\n",
       "      <th>Short trades</th>\n",
       "      <th>Long trades</th>\n",
       "    </tr>\n",
       "  </thead>\n",
       "  <tbody>\n",
       "    <tr>\n",
       "      <th>总交易数</th>\n",
       "      <td>5819.00</td>\n",
       "      <td>1155.00</td>\n",
       "      <td>4664.00</td>\n",
       "    </tr>\n",
       "    <tr>\n",
       "      <th>盈利百分比</th>\n",
       "      <td>0.50</td>\n",
       "      <td>0.52</td>\n",
       "      <td>0.49</td>\n",
       "    </tr>\n",
       "    <tr>\n",
       "      <th>盈利交易数</th>\n",
       "      <td>2887.00</td>\n",
       "      <td>595.00</td>\n",
       "      <td>2292.00</td>\n",
       "    </tr>\n",
       "    <tr>\n",
       "      <th>亏损交易数</th>\n",
       "      <td>2914.00</td>\n",
       "      <td>553.00</td>\n",
       "      <td>2361.00</td>\n",
       "    </tr>\n",
       "    <tr>\n",
       "      <th>平局交易数</th>\n",
       "      <td>18.00</td>\n",
       "      <td>7.00</td>\n",
       "      <td>11.00</td>\n",
       "    </tr>\n",
       "  </tbody>\n",
       "</table>"
      ],
      "text/plain": [
       "<IPython.core.display.HTML object>"
      ]
     },
     "metadata": {},
     "output_type": "display_data"
    },
    {
     "data": {
      "text/html": [
       "<table border=\"1\" class=\"dataframe\">\n",
       "  <thead>\n",
       "    <tr style=\"text-align: right;\">\n",
       "      <th>PnL stats</th>\n",
       "      <th>All trades</th>\n",
       "      <th>Short trades</th>\n",
       "      <th>Long trades</th>\n",
       "    </tr>\n",
       "  </thead>\n",
       "  <tbody>\n",
       "    <tr>\n",
       "      <th>总净利润</th>\n",
       "      <td>$67003.94</td>\n",
       "      <td>$3531.32</td>\n",
       "      <td>$63472.61</td>\n",
       "    </tr>\n",
       "    <tr>\n",
       "      <th>总盈利</th>\n",
       "      <td>$448674.42</td>\n",
       "      <td>$20579.67</td>\n",
       "      <td>$428094.75</td>\n",
       "    </tr>\n",
       "    <tr>\n",
       "      <th>总亏损</th>\n",
       "      <td>$-381670.48</td>\n",
       "      <td>$-17048.35</td>\n",
       "      <td>$-364622.13</td>\n",
       "    </tr>\n",
       "    <tr>\n",
       "      <th>利润因子</th>\n",
       "      <td>$1.18</td>\n",
       "      <td>$1.21</td>\n",
       "      <td>$1.17</td>\n",
       "    </tr>\n",
       "    <tr>\n",
       "      <th>所有交易平均净利润</th>\n",
       "      <td>$11.51</td>\n",
       "      <td>$3.06</td>\n",
       "      <td>$13.61</td>\n",
       "    </tr>\n",
       "    <tr>\n",
       "      <th>盈利交易平均净利润</th>\n",
       "      <td>$155.41</td>\n",
       "      <td>$34.59</td>\n",
       "      <td>$186.78</td>\n",
       "    </tr>\n",
       "    <tr>\n",
       "      <th>亏损交易平均净利润</th>\n",
       "      <td>$-130.98</td>\n",
       "      <td>$-30.83</td>\n",
       "      <td>$-154.44</td>\n",
       "    </tr>\n",
       "    <tr>\n",
       "      <th>盈亏比率</th>\n",
       "      <td>$1.19</td>\n",
       "      <td>$1.12</td>\n",
       "      <td>$1.21</td>\n",
       "    </tr>\n",
       "    <tr>\n",
       "      <th>最大盈利</th>\n",
       "      <td>$9500.14</td>\n",
       "      <td>$1623.24</td>\n",
       "      <td>$9500.14</td>\n",
       "    </tr>\n",
       "    <tr>\n",
       "      <th>最大亏损</th>\n",
       "      <td>$-22902.83</td>\n",
       "      <td>$-661.29</td>\n",
       "      <td>$-22902.83</td>\n",
       "    </tr>\n",
       "  </tbody>\n",
       "</table>"
      ],
      "text/plain": [
       "<IPython.core.display.HTML object>"
      ]
     },
     "metadata": {},
     "output_type": "display_data"
    },
    {
     "data": {
      "text/html": [
       "<table border=\"1\" class=\"dataframe\">\n",
       "  <thead>\n",
       "    <tr style=\"text-align: right;\">\n",
       "      <th>Duration stats</th>\n",
       "      <th>All trades</th>\n",
       "      <th>Short trades</th>\n",
       "      <th>Long trades</th>\n",
       "    </tr>\n",
       "  </thead>\n",
       "  <tbody>\n",
       "    <tr>\n",
       "      <th>平均持续时间</th>\n",
       "      <td>13 days 03:27:07.702354356</td>\n",
       "      <td>2 days 10:39:35.064935064</td>\n",
       "      <td>15 days 19:02:40.548885077</td>\n",
       "    </tr>\n",
       "    <tr>\n",
       "      <th>中位数持续时间</th>\n",
       "      <td>8 days 00:00:00</td>\n",
       "      <td>2 days 00:00:00</td>\n",
       "      <td>12 days 00:00:00</td>\n",
       "    </tr>\n",
       "    <tr>\n",
       "      <th>最长持续时间</th>\n",
       "      <td>84 days 00:00:00</td>\n",
       "      <td>13 days 00:00:00</td>\n",
       "      <td>84 days 00:00:00</td>\n",
       "    </tr>\n",
       "    <tr>\n",
       "      <th>最短持续时间</th>\n",
       "      <td>1 days 00:00:00</td>\n",
       "      <td>1 days 00:00:00</td>\n",
       "      <td>1 days 00:00:00</td>\n",
       "    </tr>\n",
       "  </tbody>\n",
       "</table>"
      ],
      "text/plain": [
       "<IPython.core.display.HTML object>"
      ]
     },
     "metadata": {},
     "output_type": "display_data"
    },
    {
     "data": {
      "text/html": [
       "<table border=\"1\" class=\"dataframe\">\n",
       "  <thead>\n",
       "    <tr style=\"text-align: right;\">\n",
       "      <th>Return stats</th>\n",
       "      <th>All trades</th>\n",
       "      <th>Short trades</th>\n",
       "      <th>Long trades</th>\n",
       "    </tr>\n",
       "  </thead>\n",
       "  <tbody>\n",
       "    <tr>\n",
       "      <th>所有交易的平均收益</th>\n",
       "      <td>0.01%</td>\n",
       "      <td>0.00%</td>\n",
       "      <td>0.01%</td>\n",
       "    </tr>\n",
       "    <tr>\n",
       "      <th>盈利交易的平均收益</th>\n",
       "      <td>0.13%</td>\n",
       "      <td>0.03%</td>\n",
       "      <td>0.15%</td>\n",
       "    </tr>\n",
       "    <tr>\n",
       "      <th>亏损交易的平均收益</th>\n",
       "      <td>-0.11%</td>\n",
       "      <td>-0.03%</td>\n",
       "      <td>-0.13%</td>\n",
       "    </tr>\n",
       "    <tr>\n",
       "      <th>所有交易的中位数收益</th>\n",
       "      <td>-0.00%</td>\n",
       "      <td>0.00%</td>\n",
       "      <td>-0.00%</td>\n",
       "    </tr>\n",
       "    <tr>\n",
       "      <th>盈利交易的中位数收益</th>\n",
       "      <td>0.02%</td>\n",
       "      <td>0.01%</td>\n",
       "      <td>0.03%</td>\n",
       "    </tr>\n",
       "    <tr>\n",
       "      <th>亏损交易的中位数收益</th>\n",
       "      <td>-0.01%</td>\n",
       "      <td>-0.00%</td>\n",
       "      <td>-0.02%</td>\n",
       "    </tr>\n",
       "    <tr>\n",
       "      <th>最大盈利交易</th>\n",
       "      <td>6.78%</td>\n",
       "      <td>1.37%</td>\n",
       "      <td>6.78%</td>\n",
       "    </tr>\n",
       "    <tr>\n",
       "      <th>最大亏损交易</th>\n",
       "      <td>-17.23%</td>\n",
       "      <td>-0.72%</td>\n",
       "      <td>-17.23%</td>\n",
       "    </tr>\n",
       "  </tbody>\n",
       "</table>"
      ],
      "text/plain": [
       "<IPython.core.display.HTML object>"
      ]
     },
     "metadata": {},
     "output_type": "display_data"
    },
    {
     "data": {
      "text/html": [
       "<table border=\"1\" class=\"dataframe\">\n",
       "  <thead>\n",
       "    <tr style=\"text-align: right;\">\n",
       "      <th>Symbol stats</th>\n",
       "      <th>AMD</th>\n",
       "      <th>CERN</th>\n",
       "      <th>COST</th>\n",
       "      <th>DELL</th>\n",
       "      <th>GPS</th>\n",
       "      <th>INTC</th>\n",
       "      <th>MMM</th>\n",
       "    </tr>\n",
       "  </thead>\n",
       "  <tbody>\n",
       "    <tr>\n",
       "      <th>&lt;lambda_0&gt;</th>\n",
       "      <td>-0.00%</td>\n",
       "      <td>0.02%</td>\n",
       "      <td>0.02%</td>\n",
       "      <td>-0.03%</td>\n",
       "      <td>0.00%</td>\n",
       "      <td>0.02%</td>\n",
       "      <td>0.01%</td>\n",
       "    </tr>\n",
       "    <tr>\n",
       "      <th>&lt;lambda_1&gt;</th>\n",
       "      <td>0.20%</td>\n",
       "      <td>0.15%</td>\n",
       "      <td>0.10%</td>\n",
       "      <td>0.11%</td>\n",
       "      <td>0.10%</td>\n",
       "      <td>0.11%</td>\n",
       "      <td>0.10%</td>\n",
       "    </tr>\n",
       "    <tr>\n",
       "      <th>&lt;lambda_2&gt;</th>\n",
       "      <td>-0.19%</td>\n",
       "      <td>-0.13%</td>\n",
       "      <td>-0.07%</td>\n",
       "      <td>-0.15%</td>\n",
       "      <td>-0.09%</td>\n",
       "      <td>-0.06%</td>\n",
       "      <td>-0.09%</td>\n",
       "    </tr>\n",
       "    <tr>\n",
       "      <th>&lt;lambda_3&gt;</th>\n",
       "      <td>-0.00%</td>\n",
       "      <td>0.00%</td>\n",
       "      <td>0.00%</td>\n",
       "      <td>-0.00%</td>\n",
       "      <td>-0.00%</td>\n",
       "      <td>-0.00%</td>\n",
       "      <td>0.00%</td>\n",
       "    </tr>\n",
       "    <tr>\n",
       "      <th>&lt;lambda_4&gt;</th>\n",
       "      <td>0.03%</td>\n",
       "      <td>0.02%</td>\n",
       "      <td>0.02%</td>\n",
       "      <td>0.02%</td>\n",
       "      <td>0.02%</td>\n",
       "      <td>0.01%</td>\n",
       "      <td>0.02%</td>\n",
       "    </tr>\n",
       "    <tr>\n",
       "      <th>&lt;lambda_5&gt;</th>\n",
       "      <td>-0.02%</td>\n",
       "      <td>-0.01%</td>\n",
       "      <td>-0.01%</td>\n",
       "      <td>-0.02%</td>\n",
       "      <td>-0.01%</td>\n",
       "      <td>-0.01%</td>\n",
       "      <td>-0.01%</td>\n",
       "    </tr>\n",
       "    <tr>\n",
       "      <th>max</th>\n",
       "      <td>6.78%</td>\n",
       "      <td>6.14%</td>\n",
       "      <td>3.96%</td>\n",
       "      <td>2.78%</td>\n",
       "      <td>1.80%</td>\n",
       "      <td>2.40%</td>\n",
       "      <td>2.45%</td>\n",
       "    </tr>\n",
       "    <tr>\n",
       "      <th>min</th>\n",
       "      <td>-17.23%</td>\n",
       "      <td>-3.92%</td>\n",
       "      <td>-2.32%</td>\n",
       "      <td>-6.39%</td>\n",
       "      <td>-6.86%</td>\n",
       "      <td>-4.45%</td>\n",
       "      <td>-1.79%</td>\n",
       "    </tr>\n",
       "  </tbody>\n",
       "</table>"
      ],
      "text/plain": [
       "<IPython.core.display.HTML object>"
      ]
     },
     "metadata": {},
     "output_type": "display_data"
    },
    {
     "data": {
      "text/html": [
       "<table border=\"1\" class=\"dataframe\">\n",
       "  <thead>\n",
       "    <tr style=\"text-align: right;\">\n",
       "      <th>Profitability (PnL / PnL total) per name</th>\n",
       "      <th></th>\n",
       "    </tr>\n",
       "    <tr>\n",
       "      <th>symbol</th>\n",
       "      <th></th>\n",
       "    </tr>\n",
       "  </thead>\n",
       "  <tbody>\n",
       "    <tr>\n",
       "      <th>COST</th>\n",
       "      <td>39.07%</td>\n",
       "    </tr>\n",
       "    <tr>\n",
       "      <th>INTC</th>\n",
       "      <td>37.19%</td>\n",
       "    </tr>\n",
       "    <tr>\n",
       "      <th>CERN</th>\n",
       "      <td>31.54%</td>\n",
       "    </tr>\n",
       "    <tr>\n",
       "      <th>MMM</th>\n",
       "      <td>21.58%</td>\n",
       "    </tr>\n",
       "    <tr>\n",
       "      <th>GPS</th>\n",
       "      <td>4.91%</td>\n",
       "    </tr>\n",
       "    <tr>\n",
       "      <th>AMD</th>\n",
       "      <td>-6.24%</td>\n",
       "    </tr>\n",
       "    <tr>\n",
       "      <th>DELL</th>\n",
       "      <td>-28.03%</td>\n",
       "    </tr>\n",
       "  </tbody>\n",
       "</table>"
      ],
      "text/plain": [
       "<IPython.core.display.HTML object>"
      ]
     },
     "metadata": {},
     "output_type": "display_data"
    },
    {
     "data": {
      "text/html": [
       "<table border=\"1\" class=\"dataframe\">\n",
       "  <thead>\n",
       "    <tr style=\"text-align: right;\">\n",
       "      <th>Profitability (PnL / PnL total) per name</th>\n",
       "      <th></th>\n",
       "    </tr>\n",
       "    <tr>\n",
       "      <th>symbol</th>\n",
       "      <th></th>\n",
       "    </tr>\n",
       "  </thead>\n",
       "  <tbody>\n",
       "    <tr>\n",
       "      <th>Consumer Goods</th>\n",
       "      <td>39.07%</td>\n",
       "    </tr>\n",
       "    <tr>\n",
       "      <th>Healthcare</th>\n",
       "      <td>31.54%</td>\n",
       "    </tr>\n",
       "    <tr>\n",
       "      <th>Construction</th>\n",
       "      <td>21.58%</td>\n",
       "    </tr>\n",
       "    <tr>\n",
       "      <th>Technology</th>\n",
       "      <td>7.82%</td>\n",
       "    </tr>\n",
       "  </tbody>\n",
       "</table>"
      ],
      "text/plain": [
       "<IPython.core.display.HTML object>"
      ]
     },
     "metadata": {},
     "output_type": "display_data"
    },
    {
     "ename": "ValueError",
     "evalue": "The number of FixedLocator locations (16), usually from a call to set_ticks, does not match the number of labels (7).",
     "output_type": "error",
     "traceback": [
      "\u001b[0;31m---------------------------------------------------------------------------\u001b[0m",
      "\u001b[0;31mValueError\u001b[0m                                Traceback (most recent call last)",
      "Cell \u001b[0;32mIn[4], line 1\u001b[0m\n\u001b[0;32m----> 1\u001b[0m \u001b[43mpf\u001b[49m\u001b[38;5;241;43m.\u001b[39;49m\u001b[43mcreate_round_trip_tear_sheet\u001b[49m\u001b[43m(\u001b[49m\u001b[43mreturns\u001b[49m\u001b[43m,\u001b[49m\u001b[43m \u001b[49m\u001b[43mpositions\u001b[49m\u001b[43m,\u001b[49m\u001b[43m \u001b[49m\u001b[43mtransactions\u001b[49m\u001b[43m,\u001b[49m\u001b[43m \u001b[49m\u001b[43msector_mappings\u001b[49m\u001b[38;5;241;43m=\u001b[39;49m\u001b[43msect_map\u001b[49m\u001b[43m)\u001b[49m\n",
      "File \u001b[0;32m/opt/miniconda3/envs/analysis/lib/python3.11/site-packages/pyfolio/plotting.py:70\u001b[0m, in \u001b[0;36mcustomize.<locals>.call_w_context\u001b[0;34m(*args, **kwargs)\u001b[0m\n\u001b[1;32m     68\u001b[0m \u001b[38;5;28;01mif\u001b[39;00m set_context:\n\u001b[1;32m     69\u001b[0m     \u001b[38;5;28;01mwith\u001b[39;00m plotting_context(), axes_style():\n\u001b[0;32m---> 70\u001b[0m         \u001b[38;5;28;01mreturn\u001b[39;00m \u001b[43mfunc\u001b[49m\u001b[43m(\u001b[49m\u001b[38;5;241;43m*\u001b[39;49m\u001b[43margs\u001b[49m\u001b[43m,\u001b[49m\u001b[43m \u001b[49m\u001b[38;5;241;43m*\u001b[39;49m\u001b[38;5;241;43m*\u001b[39;49m\u001b[43mkwargs\u001b[49m\u001b[43m)\u001b[49m\n\u001b[1;32m     71\u001b[0m \u001b[38;5;28;01melse\u001b[39;00m:\n\u001b[1;32m     72\u001b[0m     \u001b[38;5;28;01mreturn\u001b[39;00m func(\u001b[38;5;241m*\u001b[39margs, \u001b[38;5;241m*\u001b[39m\u001b[38;5;241m*\u001b[39mkwargs)\n",
      "File \u001b[0;32m/opt/miniconda3/envs/analysis/lib/python3.11/site-packages/pyfolio/tears.py:866\u001b[0m, in \u001b[0;36mcreate_round_trip_tear_sheet\u001b[0;34m(returns, positions, transactions, sector_mappings, estimate_intraday, return_fig)\u001b[0m\n\u001b[1;32m    863\u001b[0m ax_pnl_per_round_trip_dollars \u001b[38;5;241m=\u001b[39m plt\u001b[38;5;241m.\u001b[39msubplot(gs[\u001b[38;5;241m2\u001b[39m, \u001b[38;5;241m0\u001b[39m])\n\u001b[1;32m    864\u001b[0m ax_pnl_per_round_trip_pct \u001b[38;5;241m=\u001b[39m plt\u001b[38;5;241m.\u001b[39msubplot(gs[\u001b[38;5;241m2\u001b[39m, \u001b[38;5;241m1\u001b[39m])\n\u001b[0;32m--> 866\u001b[0m \u001b[43mplotting\u001b[49m\u001b[38;5;241;43m.\u001b[39;49m\u001b[43mplot_round_trip_lifetimes\u001b[49m\u001b[43m(\u001b[49m\u001b[43mtrades\u001b[49m\u001b[43m,\u001b[49m\u001b[43m \u001b[49m\u001b[43max\u001b[49m\u001b[38;5;241;43m=\u001b[39;49m\u001b[43max_trade_lifetimes\u001b[49m\u001b[43m)\u001b[49m\n\u001b[1;32m    868\u001b[0m plotting\u001b[38;5;241m.\u001b[39mplot_prob_profit_trade(trades, ax\u001b[38;5;241m=\u001b[39max_prob_profit_trade)\n\u001b[1;32m    870\u001b[0m trade_holding_times \u001b[38;5;241m=\u001b[39m [x\u001b[38;5;241m.\u001b[39mdays \u001b[38;5;28;01mfor\u001b[39;00m x \u001b[38;5;129;01min\u001b[39;00m trades[\u001b[38;5;124m'\u001b[39m\u001b[38;5;124mduration\u001b[39m\u001b[38;5;124m'\u001b[39m]]\n",
      "File \u001b[0;32m/opt/miniconda3/envs/analysis/lib/python3.11/site-packages/pyfolio/plotting.py:1998\u001b[0m, in \u001b[0;36mplot_round_trip_lifetimes\u001b[0;34m(round_trips, disp_amount, lsize, ax)\u001b[0m\n\u001b[1;32m   1993\u001b[0m         ax\u001b[38;5;241m.\u001b[39mplot([row[\u001b[38;5;124m'\u001b[39m\u001b[38;5;124mopen_dt\u001b[39m\u001b[38;5;124m'\u001b[39m], row[\u001b[38;5;124m'\u001b[39m\u001b[38;5;124mclose_dt\u001b[39m\u001b[38;5;124m'\u001b[39m]],\n\u001b[1;32m   1994\u001b[0m                 [y_ix, y_ix], color\u001b[38;5;241m=\u001b[39mc,\n\u001b[1;32m   1995\u001b[0m                 linewidth\u001b[38;5;241m=\u001b[39mlsize, solid_capstyle\u001b[38;5;241m=\u001b[39m\u001b[38;5;124m'\u001b[39m\u001b[38;5;124mbutt\u001b[39m\u001b[38;5;124m'\u001b[39m)\n\u001b[1;32m   1997\u001b[0m ax\u001b[38;5;241m.\u001b[39mset_yticks(\u001b[38;5;28mrange\u001b[39m(disp_amount))\n\u001b[0;32m-> 1998\u001b[0m \u001b[43max\u001b[49m\u001b[38;5;241;43m.\u001b[39;49m\u001b[43mset_yticklabels\u001b[49m\u001b[43m(\u001b[49m\u001b[43m[\u001b[49m\u001b[43mutils\u001b[49m\u001b[38;5;241;43m.\u001b[39;49m\u001b[43mformat_asset\u001b[49m\u001b[43m(\u001b[49m\u001b[43ms\u001b[49m\u001b[43m)\u001b[49m\u001b[43m \u001b[49m\u001b[38;5;28;43;01mfor\u001b[39;49;00m\u001b[43m \u001b[49m\u001b[43ms\u001b[49m\u001b[43m \u001b[49m\u001b[38;5;129;43;01min\u001b[39;49;00m\u001b[43m \u001b[49m\u001b[43msample\u001b[49m\u001b[43m]\u001b[49m\u001b[43m)\u001b[49m\n\u001b[1;32m   2000\u001b[0m ax\u001b[38;5;241m.\u001b[39mset_ylim((\u001b[38;5;241m-\u001b[39m\u001b[38;5;241m0.5\u001b[39m, \u001b[38;5;28mmin\u001b[39m(\u001b[38;5;28mlen\u001b[39m(sample), disp_amount) \u001b[38;5;241m-\u001b[39m \u001b[38;5;241m0.5\u001b[39m))\n\u001b[1;32m   2001\u001b[0m blue \u001b[38;5;241m=\u001b[39m patches\u001b[38;5;241m.\u001b[39mRectangle([\u001b[38;5;241m0\u001b[39m, \u001b[38;5;241m0\u001b[39m], \u001b[38;5;241m1\u001b[39m, \u001b[38;5;241m1\u001b[39m, color\u001b[38;5;241m=\u001b[39m\u001b[38;5;124m'\u001b[39m\u001b[38;5;124mb\u001b[39m\u001b[38;5;124m'\u001b[39m, label\u001b[38;5;241m=\u001b[39m\u001b[38;5;124m'\u001b[39m\u001b[38;5;124mLong\u001b[39m\u001b[38;5;124m'\u001b[39m)\n",
      "File \u001b[0;32m/opt/miniconda3/envs/analysis/lib/python3.11/site-packages/matplotlib/axes/_base.py:74\u001b[0m, in \u001b[0;36m_axis_method_wrapper.__set_name__.<locals>.wrapper\u001b[0;34m(self, *args, **kwargs)\u001b[0m\n\u001b[1;32m     73\u001b[0m \u001b[38;5;28;01mdef\u001b[39;00m \u001b[38;5;21mwrapper\u001b[39m(\u001b[38;5;28mself\u001b[39m, \u001b[38;5;241m*\u001b[39margs, \u001b[38;5;241m*\u001b[39m\u001b[38;5;241m*\u001b[39mkwargs):\n\u001b[0;32m---> 74\u001b[0m     \u001b[38;5;28;01mreturn\u001b[39;00m \u001b[43mget_method\u001b[49m\u001b[43m(\u001b[49m\u001b[38;5;28;43mself\u001b[39;49m\u001b[43m)\u001b[49m\u001b[43m(\u001b[49m\u001b[38;5;241;43m*\u001b[39;49m\u001b[43margs\u001b[49m\u001b[43m,\u001b[49m\u001b[43m \u001b[49m\u001b[38;5;241;43m*\u001b[39;49m\u001b[38;5;241;43m*\u001b[39;49m\u001b[43mkwargs\u001b[49m\u001b[43m)\u001b[49m\n",
      "File \u001b[0;32m/opt/miniconda3/envs/analysis/lib/python3.11/site-packages/matplotlib/axis.py:2071\u001b[0m, in \u001b[0;36mAxis.set_ticklabels\u001b[0;34m(self, labels, minor, fontdict, **kwargs)\u001b[0m\n\u001b[1;32m   2067\u001b[0m \u001b[38;5;28;01melif\u001b[39;00m \u001b[38;5;28misinstance\u001b[39m(locator, mticker\u001b[38;5;241m.\u001b[39mFixedLocator):\n\u001b[1;32m   2068\u001b[0m     \u001b[38;5;66;03m# Passing [] as a list of labels is often used as a way to\u001b[39;00m\n\u001b[1;32m   2069\u001b[0m     \u001b[38;5;66;03m# remove all tick labels, so only error for > 0 labels\u001b[39;00m\n\u001b[1;32m   2070\u001b[0m     \u001b[38;5;28;01mif\u001b[39;00m \u001b[38;5;28mlen\u001b[39m(locator\u001b[38;5;241m.\u001b[39mlocs) \u001b[38;5;241m!=\u001b[39m \u001b[38;5;28mlen\u001b[39m(labels) \u001b[38;5;129;01mand\u001b[39;00m \u001b[38;5;28mlen\u001b[39m(labels) \u001b[38;5;241m!=\u001b[39m \u001b[38;5;241m0\u001b[39m:\n\u001b[0;32m-> 2071\u001b[0m         \u001b[38;5;28;01mraise\u001b[39;00m \u001b[38;5;167;01mValueError\u001b[39;00m(\n\u001b[1;32m   2072\u001b[0m             \u001b[38;5;124m\"\u001b[39m\u001b[38;5;124mThe number of FixedLocator locations\u001b[39m\u001b[38;5;124m\"\u001b[39m\n\u001b[1;32m   2073\u001b[0m             \u001b[38;5;124mf\u001b[39m\u001b[38;5;124m\"\u001b[39m\u001b[38;5;124m (\u001b[39m\u001b[38;5;132;01m{\u001b[39;00m\u001b[38;5;28mlen\u001b[39m(locator\u001b[38;5;241m.\u001b[39mlocs)\u001b[38;5;132;01m}\u001b[39;00m\u001b[38;5;124m), usually from a call to\u001b[39m\u001b[38;5;124m\"\u001b[39m\n\u001b[1;32m   2074\u001b[0m             \u001b[38;5;124m\"\u001b[39m\u001b[38;5;124m set_ticks, does not match\u001b[39m\u001b[38;5;124m\"\u001b[39m\n\u001b[1;32m   2075\u001b[0m             \u001b[38;5;124mf\u001b[39m\u001b[38;5;124m\"\u001b[39m\u001b[38;5;124m the number of labels (\u001b[39m\u001b[38;5;132;01m{\u001b[39;00m\u001b[38;5;28mlen\u001b[39m(labels)\u001b[38;5;132;01m}\u001b[39;00m\u001b[38;5;124m).\u001b[39m\u001b[38;5;124m\"\u001b[39m)\n\u001b[1;32m   2076\u001b[0m     tickd \u001b[38;5;241m=\u001b[39m {loc: lab \u001b[38;5;28;01mfor\u001b[39;00m loc, lab \u001b[38;5;129;01min\u001b[39;00m \u001b[38;5;28mzip\u001b[39m(locator\u001b[38;5;241m.\u001b[39mlocs, labels)}\n\u001b[1;32m   2077\u001b[0m     func \u001b[38;5;241m=\u001b[39m functools\u001b[38;5;241m.\u001b[39mpartial(\u001b[38;5;28mself\u001b[39m\u001b[38;5;241m.\u001b[39m_format_with_dict, tickd)\n",
      "\u001b[0;31mValueError\u001b[0m: The number of FixedLocator locations (16), usually from a call to set_ticks, does not match the number of labels (7)."
     ]
    },
    {
     "data": {
      "image/png": "[encoded data removed]",
      "text/plain": [
       "<Figure size 1400x1800 with 5 Axes>"
      ]
     },
     "metadata": {},
     "output_type": "display_data"
    }
   ],
   "source": [
    "pf.create_round_trip_tear_sheet(returns, positions, transactions, sector_mappings=sect_map)"
   ]
  },
  {
   "cell_type": "markdown",
   "metadata": {},
   "source": [
    "Under the hood, several functions are being called. `extract_round_trips()` does the portfolio reconstruction and creates the round-trip trades."
   ]
  },
  {
   "cell_type": "code",
   "execution_count": 6,
   "metadata": {},
   "outputs": [],
   "source": [
    "rts = pf.round_trips.extract_round_trips(transactions, \n",
    "                                         portfolio_value=positions.sum(axis='columns') / (returns + 1))"
   ]
  },
  {
   "cell_type": "code",
   "execution_count": null,
   "metadata": {},
   "outputs": [],
   "source": [
    "rts.head()"
   ]
  },
  {
   "cell_type": "code",
   "execution_count": null,
   "metadata": {},
   "outputs": [],
   "source": [
    "pf.round_trips.print_round_trip_stats(rts)"
   ]
  },
  {
   "cell_type": "code",
   "execution_count": null,
   "metadata": {
    "collapsed": true
   },
   "outputs": [],
   "source": []
  }
 ],
 "metadata": {
  "kernelspec": {
   "display_name": "analysis",
   "language": "python",
   "name": "python3"
  },
  "language_info": {
   "codemirror_mode": {
    "name": "ipython",
    "version": 3
   },
   "file_extension": ".py",
   "mimetype": "text/x-python",
   "name": "python",
   "nbconvert_exporter": "python",
   "pygments_lexer": "ipython3",
   "version": "3.11.10"
  }
 },
 "nbformat": 4,
 "nbformat_minor": 1
}
